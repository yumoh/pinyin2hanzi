{
 "cells": [
  {
   "cell_type": "code",
   "execution_count": 2,
   "metadata": {},
   "outputs": [
    {
     "name": "stdout",
     "output_type": "stream",
     "text": [
      "Populating the interactive namespace from numpy and matplotlib\n"
     ]
    }
   ],
   "source": [
    "%pylab inline"
   ]
  },
  {
   "cell_type": "code",
   "execution_count": 1,
   "metadata": {},
   "outputs": [],
   "source": [
    "import tensorflow as tf\n",
    "from tensorflow import keras"
   ]
  },
  {
   "cell_type": "code",
   "execution_count": 4,
   "metadata": {},
   "outputs": [
    {
     "data": {
      "text/plain": [
       "device(type='cuda')"
      ]
     },
     "execution_count": 4,
     "metadata": {},
     "output_type": "execute_result"
    }
   ],
   "source": [
    "import numpy as np\n",
    "import torch\n",
    "import torch.nn as nn\n",
    "import torch.nn.functional as F\n",
    "from torch.optim import Adadelta\n",
    "\n",
    "device = torch.device('cuda' if torch.cuda.is_available() else 'cpu')\n",
    "device"
   ]
  },
  {
   "cell_type": "code",
   "execution_count": 5,
   "metadata": {},
   "outputs": [],
   "source": [
    "from tqdm import tqdm_notebook as tqdm\n",
    "from utils.dataloader import DataLoader"
   ]
  },
  {
   "cell_type": "code",
   "execution_count": 6,
   "metadata": {},
   "outputs": [],
   "source": [
    "def data_gen(data_loader: DataLoader, size: int = 32, loops: int = -1, device=None):\n",
    "    for x, xi, y, yi in data_loader.gen_batch(size, loops):\n",
    "        x = torch.from_numpy(x).to(torch.long).to(device)\n",
    "        xi = torch.from_numpy(xi).to(torch.long).to(device)\n",
    "        y = torch.from_numpy(y).to(torch.long).to(device)\n",
    "        yi = torch.from_numpy(yi).to(torch.long).to(device)\n",
    "        yield x, xi, y, yi"
   ]
  },
  {
   "cell_type": "code",
   "execution_count": 7,
   "metadata": {},
   "outputs": [
    {
     "data": {
      "text/plain": [
       "data:./data/zh.tsv\n",
       "            series size:154988\n",
       "            input data max length:51 words:1153\n",
       "            target data max length:51 words:4461\n",
       "            "
      ]
     },
     "execution_count": 7,
     "metadata": {},
     "output_type": "execute_result"
    }
   ],
   "source": [
    "data_loader = DataLoader()\n",
    "data_loader"
   ]
  },
  {
   "cell_type": "code",
   "execution_count": 10,
   "metadata": {},
   "outputs": [
    {
     "data": {
      "text/plain": [
       "torch.Size([32, 50, 4461])"
      ]
     },
     "execution_count": 10,
     "metadata": {},
     "output_type": "execute_result"
    }
   ],
   "source": [
    "class Tnet(nn.Module):\n",
    "    def __init__(self,chars_count,target_count):\n",
    "        super().__init__()\n",
    "        self.embedding = nn.Embedding(chars_count,512)\n",
    "        self.linear_rate = nn.Sequential(\n",
    "            nn.Conv1d(512,512,kernel_size=1),\n",
    "            nn.ReLU(),\n",
    "        )\n",
    "        self.r1 = nn.GRU(512,512,num_layers=2,batch_first=True,bidirectional=True)\n",
    "        self.decoder = nn.Sequential(\n",
    "            nn.Conv1d(1024,target_count,kernel_size=1),\n",
    "            nn.ReLU(),\n",
    "            nn.LogSoftmax(dim=1),\n",
    "        )\n",
    "        \n",
    "        map(nn.init.xavier_normal_,self.parameters())\n",
    "\n",
    "    def forward(self,x:torch.Tensor):\n",
    "        x = self.embedding(x)\n",
    "        x = self.linear_rate(x.transpose(1,2))\n",
    "        x,hidden = self.r1(x.transpose(1,2))\n",
    "        x = self.decoder(x.transpose(1,2))\n",
    "        x = x.transpose(1,2)\n",
    "        return x\n",
    "    \n",
    "g = data_gen(data_loader)\n",
    "x,xi,y,yi = next(g)\n",
    "model = Tnet(data_loader.pinyin_numbers,data_loader.char_numbers)\n",
    "out= model(x)\n",
    "out.shape"
   ]
  },
  {
   "cell_type": "code",
   "execution_count": 83,
   "metadata": {},
   "outputs": [],
   "source": [
    "model = model.train().to(device=device,dtype=torch.float32)\n",
    "optimizer = Adadelta(model.parameters(),lr=0.2)"
   ]
  },
  {
   "cell_type": "code",
   "execution_count": 84,
   "metadata": {},
   "outputs": [
    {
     "data": {
      "application/vnd.jupyter.widget-view+json": {
       "model_id": "e0f3e7951d724bff82fabad835db78b9",
       "version_major": 2,
       "version_minor": 0
      },
      "text/plain": [
       "HBox(children=(IntProgress(value=0, max=5000), HTML(value='')))"
      ]
     },
     "metadata": {},
     "output_type": "display_data"
    },
    {
     "name": "stdout",
     "output_type": "stream",
     "text": [
      "\n"
     ]
    }
   ],
   "source": [
    "bar = tqdm(data_gen(data_loader,size=128,loops=5000,device=device),total=5000)\n",
    "for loop,(x,xi,y,yi) in enumerate(bar):\n",
    "    \n",
    "    optimizer.zero_grad()\n",
    "    out=model(x)\n",
    "    loss_ctc=F.ctc_loss(out.transpose(0,1),y,torch.full((x.shape[0],),x.shape[1],device=device),yi)\n",
    "    loss_ctc.backward()\n",
    "    optimizer.step()\n",
    "    \n",
    "#     _,ypred = torch.max(labels,dim=1,keepdim=False)\n",
    "#     acc = ypred.eq(y.view_as(ypred)).sum().cpu().item()/(ypred.shape[0]*ypred.shape[1])\n",
    "    if loop % 20 == 0:\n",
    "        bar.set_postfix(ctc=f\"{loss_ctc.item():0.6f}\")"
   ]
  },
  {
   "cell_type": "code",
   "execution_count": 86,
   "metadata": {},
   "outputs": [],
   "source": [
    "model=model.eval()"
   ]
  },
  {
   "cell_type": "code",
   "execution_count": 87,
   "metadata": {},
   "outputs": [
    {
     "data": {
      "text/plain": [
       "(128, 50, 4461)"
      ]
     },
     "execution_count": 87,
     "metadata": {},
     "output_type": "execute_result"
    }
   ],
   "source": [
    "g=data_gen(data_loader,size=128,loops=5000,device=device)\n",
    "x,xi,y,yi = next(g)\n",
    "out = model(x)\n",
    "out_array = out.detach().cpu().numpy()\n",
    "out_array.shape"
   ]
  },
  {
   "cell_type": "code",
   "execution_count": 89,
   "metadata": {},
   "outputs": [],
   "source": [
    "[decoder],rate=tf.nn.ctc_greedy_decoder(out_array.transpose(1,0,2),\n",
    "                        np.full((out_array.shape[0],),out_array.shape[1])\n",
    "                        )"
   ]
  },
  {
   "cell_type": "code",
   "execution_count": 91,
   "metadata": {},
   "outputs": [],
   "source": [
    "ss=[data_loader.array_to_char(s.numpy()) for s in y.cpu()]\n",
    "ss=' '.join(ss)"
   ]
  },
  {
   "cell_type": "code",
   "execution_count": 92,
   "metadata": {},
   "outputs": [],
   "source": [
    "ss_2=data_loader.array_to_char(decoder.values.numpy())"
   ]
  },
  {
   "cell_type": "code",
   "execution_count": 93,
   "metadata": {},
   "outputs": [
    {
     "name": "stdout",
     "output_type": "stream",
     "text": [
      "\n",
      "\n",
      " 特 斯 拉 的 后 续 中 端 产 品 的 投 放 \n",
      " 特 斯 拉 的 后 续 终 端 产 品 的 投 放 \n",
      " 是 确 保 证 券 执 法 有 效 性 的 重 要 条 件 \n",
      " 是 确 保 证 券 执 法 有 效 性 的 重 要 条 件 \n",
      " 整 合 国 际 国 内 的 一 流 资 源 \n",
      " 整 合 国 际 国 内 的 一 流 资 源 \n",
      " 各 种 产 品 细 节 的 打 造 受 到 业 内 外 追 捧 \n",
      " 各 种 产 品 细 节 的 打 造 受 到 业 内 外 追 捧 \n",
      " 而 谷 歌 将 蒙 受 人 才 流 失 带 来 的 损 失 \n",
      " 而 谷 歌 将 蒙 售 人 才 流 失 带 来 的 损 失 \n",
      " 三 里 屯 不 雅 视 频 网 传 手 机 号 码 存 疑 \n",
      " 三 里 屯 不 雅 视 频 网 传 手 机 号 码 存 疑 \n",
      " 目 前 还 在 安 阳 市 第 六 人 民 医 院 抢 救 \n",
      " 目 前 还 在 安 阳 市 第 六 人 民 医 院 抢 救 \n",
      " 分 别 索 赔 一 百 一 十 馀 万 元 \n",
      " 分 别 索 赔 一 百 一 十 馀 万 元 \n",
      " 甚 至 是 用 户 在 看 其 他 显 示 屏 例 如 电 视 机 \n",
      " 甚 至 是 用 户 再 看 其 他 显 示 屏 例 如 电 视 机 \n",
      " 导 致 生 成 巨 量 市 价 委 托 订 单 \n",
      " 导 致 生 成 据 量 市 价 委 托 订 单 \n",
      " 军 人 工 资 卡 辅 卡 大 量 优 惠 政 策 外 泄 保 密 性 超 强 \n",
      " 军 人 工 资 卡 腐 卡 大 量 优 惠 政 策 外 保 密 性 超 强 \n",
      " 大 家 都 以 为 跑 步 只 是 老 占 的 一 个 兴 趣 爱 好 \n",
      " 大 家 都 以 为 跑 步 只 是 老 战 的 一 个 兴 趣 爱 好 \n",
      " 鉴 于 此 经 研 究 决 定 海 峡 情 专 栏 原 定 三 月 底 结 束 现 延 至 五 月 三 十 一 日 特 此 告 知 \n",
      " 鉴 于 此 经 研 究 决 定 海 峡 情 专 栏 原 定 三 月 底 结 束 现 延 至 五 月 三 十 一 日 特 此 告 知 \n",
      " 且 一 直 以 来 也 没 有 和 女 儿 发 短 信 的 习 惯 \n",
      " 且 一 直 以 来 也 没 有 和 女 儿 发 短 信 的 习 惯 \n",
      " 千 亿 军 团 的 扩 容 在 今 年 或 许 能 够 实 现 \n",
      " 千 亿 军 团 的 扩 容 在 今 年 或 许 能 够 实 现 \n",
      " 不 断 优 化 稽 查 干 部 队 伍 的 专 业 技 能 和 知 识 结 构 \n",
      " 不 断 优 化 稽 查 干 部 队 伍 的 专 业 技 能 和 知 识 结 构 \n",
      " 去 年 四 月 中 旬 我 镇 税 务 所 查 获 盐 城 市 郊 区 某 个 体 商 贩 在 我 镇 从 事 石 棉 瓦 经 营 业 务 \n",
      " 去 年 四 月 中 旬 我 镇 税 务 所 查 获 盐 城 市 郊 区 某 个 体 商 贩 在 我 镇 从 事 石 棉 瓦 经 营 业 务 \n",
      " 儿 童 性 发 育 时 间 是 提 前 女 孩 平 均 九 点 七 岁 \n",
      " 儿 童 性 发 育 时 间 是 提 前 女 孩 平 均 九 点 七 岁 \n",
      " 江 西 湖 口 县 双 钟 水 产 场 渔 民 张 后 渔 日 前 将 一 条 捕 获 入 网 的 形 似 鳊 鱼 的 胭 脂 鱼 放 回 江 中 \n",
      " 江 西 湖 口 县 双 钟 水 产 场 渔 民 张 后 渔 日 前 将 一 条 捕 获 入 网 的 形 似 编 鱼 的 烟 芝 鱼 放 回 江 中 \n",
      " 最 低 为 下 降 百 分 之 十 点 一 \n",
      " 最 低 为 下 降 百 分 之 十 点 一 \n",
      " 上 海 一 家 券 商 的 汽 车 行 业 研 究 员 向 记 者 表 示 \n",
      " 上 海 一 家 券 商 的 汽 车 行 业 研 究 员 向 记 者 表 示 \n",
      " 我 又 来 打 老 伴 的 健 在 证 明 了 \n",
      " 我 又 来 打 老 伴 的 健 在 证 明 了 \n",
      " 而 申 请 办 理 组 合 贷 款 的 手 续 则 更 为 复 杂 \n",
      " 而 申 请 办 理 组 合 贷 款 的 手 续 则 更 为 复 杂 \n",
      " 在 他 们 的 带 动 下 全 村 很 快 兴 起 栽 桑 养 蚕 热 潮 原 先 五 六 百 亩 荒 坡 荒 堤 被 垦 殖 一 空 \n",
      " 在 他 们 的 带 动 下 全 村 很 快 兴 起 栽 桑 养 蚕 热 潮 原 先 五 六 百 亩 荒 坡 荒 堤 被 垦 殖 一 空 \n",
      " 十 几 万 人 正 在 保 障 房 或 自 住 商 品 房 项 目 等 着 排 队 摇 号 \n",
      " 十 几 万 人 正 在 保 障 房 或 自 住 商 品 房 项 目 等 着 排 队 摇 号 \n",
      " 利 用 拆 包 爆 炸 和 定 时 引 爆 两 种 手 段 \n",
      " 利 用 拆 包 爆 炸 核 定 时 引 报 两 种 手 段 \n",
      " 不 过 更 让 中 国 观 众 期 待 的 \n",
      " 不 过 更 让 中 国 观 众 期 待 的 \n",
      " 早 被 国 外 农 户 广 泛 采 用 的 微 生 物 菌 养 禽 畜 技 术 已 落 户 中 国 \n",
      " 早 被 国 外 农 户 广 泛 采 用 的 微 生 物 菌 养 禽 畜 技 术 已 落 户 中 国 \n",
      " 使 用 了 一 些 未 经 授 权 的 网 络 照 片 \n",
      " 使 用 了 一 些 未 经 授 权 的 网 络 照 片 \n",
      " 他 们 的 爆 款 智 能 手 环 让 他 们 明 白 \n",
      " 他 们 的 报 款 智 能 手 环 让 他 们 明 白 \n",
      " 中 新 网 呼 和 浩 特 八 月 十 二 日 电 \n",
      " 中 新 网 呼 和 浩 特 八 月 十 二 日 电 \n",
      " 万 科 如 历 年 一 样 \n",
      " 万 科 如 历 年 一 样 \n",
      " 使 得 开 发 商 在 与 终 端 市 场 对 接 时 \n",
      " 使 得 开 发 商 在 与 终 端 市 场 对 接 时 \n",
      " 上 市 公 司 可 收 购 本 公 司 股 份 \n",
      " 上 市 公 司 可 收 购 本 公 司 股 份 \n",
      " 以 服 务 办 公 场 所 为 前 提 \n",
      " 以 服 务 办 公 厂 所 未 前 提 \n",
      " 刚 刚 在 夏 威 夷 科 纳 岛 进 行 的 第 三 十 六 届 铁 人 三 项 世 锦 赛 上 \n",
      " 刚 刚 在 科 岛 进 行 的 第 三 十 六 铁 人 三 项 世 锦 赛 上 \n",
      " 信 托 公 司 在 信 用 证 信 托 业 务 中 也 赚 不 了 多 少 钱 \n",
      " 信 托 公 司 在 信 用 证 信 托 业 务 中 也 赚 不 了 多 少 钱 \n",
      " 梁 文 博 状 态 出 色 五 比 二 轻 取 对 手 \n",
      " 梁 文 博 状 态 出 色 五 比 二 轻 取 对 手 \n",
      " 推 进 电 子 化 披 露 \n",
      " 推 进 电 子 化 披 露 \n",
      " 但 随 即 曝 出 炒 饭 被 当 做 厨 馀 垃 圾 送 去 喂 猪 \n",
      " 但 随 即 铺 出 炒 饭 被 当 做 除 于 拉 圾 送 趣 为 猪 \n",
      " 导 致 了 不 同 接 口 的 车 不 能 使 用 同 一 款 充 电 设 备 \n",
      " 导 致 了 不 同 接 口 的 车 不 能 使 用 同 一 款 充 电 设 备 \n",
      " 长 期 稳 定 进 行 高 分 红 的 股 票 \n",
      " 长 期 稳 定 进 行 高 分 红 的 股 票 \n",
      " 除 提 出 扩 大 住 房 保 障 复 盖 范 围 外 \n",
      " 除 提 出 扩 大 住 房 保 障 复 盖 范 围 外 \n",
      " 最 低 价 为 一 百 五 十 点 五 十 美 元 \n",
      " 最 低 价 为 一 百 五 十 点 五 十 美 元 \n",
      " 比 如 说 你 是 一 个 企 业 \n",
      " 比 如 说 你 是 一 个 企 业 \n",
      " 消 息 令 众 多 果 粉 为 之 一 振 \n",
      " 消 息 令 众 多 果 粉 为 之 一 阵 \n",
      " 比 如 购 买 道 具 或 者 下 载 手 机 彩 铃 等 \n",
      " 比 如 购 买 到 据 或 者 下 载 手 机 采 凌 等 \n",
      " 第 二 要 把 经 济 手 段 和 恰 当 的 行 政 手 段 结 合 起 来 加 以 运 用 特 别 要 注 意 运 用 好 经 济 手 段 \n",
      " 第 二 要 把 经 济 手 段 和 恰 当 的 行 政 手 段 结 合 起 来 加 以 运 用 特 别 要 注 意 运 用 好 经 济 手 段 \n",
      " 新 华 社 维 也 纳 二 月 二 十 二 日 电 维 也 纳 欧 洲 常 规 裁 军 第 五 轮 会 谈 今 天 在 这 里 结 束 \n",
      " 新 华 社 维 也 纳 二 月 二 十 二 日 电 维 也 纳 欧 洲 常 规 裁 军 第 五 轮 会 谈 今 天 在 这 里 结 束 \n",
      " 我 希 望 通 过 自 己 的 努 力 和 行 动 \n",
      " 我 希 望 通 过 自 己 的 努 力 和 行 动 \n",
      " 虽 然 银 行 热 衷 于 在 淘 宝 平 台 处 置 不 良 资 产 \n",
      " 虽 然 银 行 热 终 于 在 淘 宝 平 台 处 置 不 良 资 产 \n",
      " 每 年 在 工 人 工 资 投 入 上 可 以 减 少 十 点 八 万 元 左 右 \n",
      " 每 年 在 工 人 工 资 投 入 上 可 以 减 少 十 点 八 万 元 左 右 \n",
      " 搜 狐 娱 乐 对 你 而 言 \n",
      " 搜 狐 娱 乐 对 你 而 言 \n",
      " 仅 美 国 就 有 超 过 四 十 八 万 人 参 与 铁 人 三 项 运 动 \n",
      " 仅 美 国 就 有 超 过 四 十 八 万 人 参 与 铁 人 三 项 运 动 \n",
      " 中 国 体 育 杂 志 社 七 月 十 一 日 在 北 京 举 行 了 向 中 国 奥 运 健 儿 赠 送 体 育 摄 影 画 册 仪 式 \n",
      " 中 国 体 育 杂 志 社 七 月 十 一 日 在 北 京 举 行 了 向 中 国 奥 运 健 儿 赠 送 体 育 摄 影 画 册 仪 式 \n",
      " 可 是 清 晨 每 当 目 送 卖 菜 的 女 儿 扯 着 轻 雾 走 远 时 他 又 会 倚 着 菜 庵 的 门 框 叹 息 \n",
      " 可 是 清 晨 每 当 目 送 卖 菜 的 女 儿 着 轻 物 走 远 时 他 又 会 以 着 菜 庵 的 门 框 叹 息 \n",
      " 所 以 带 来 的 现 金 流 是 不 错 的 \n",
      " 所 以 带 来 的 现 金 流 是 不 错 的 \n",
      " 卖 给 一 级 批 发 商 六 七 毛 一 盒 \n",
      " 卖 给 一 级 批 发 商 六 七 毛 一 盒 \n",
      " 千 百 年 来 逐 水 草 而 居 靠 天 养 畜 的 藏 族 牧 民 开 始 在 围 栏 内 划 片 轮 牧 并 利 用 农 机 具 种 草 \n",
      " 千 百 年 来 逐 水 草 而 居 靠 天 养 畜 的 藏 族 牧 民 开 始 在 围 栏 内 划 片 轮 牧 并 利 用 农 机 具 种 草 \n",
      " 世 锦 赛 参 赛 选 手 广 西 名 将 韦 永 丽 以 十 一 点 四 十 一 秒 夺 冠 \n",
      " 世 锦 赛 参 赛 选 手 广 西 名 将 韦 永 丽 以 十 一 点 四 十 一 秒 夺 冠 \n",
      " 田 管 中 心 希 望 这 次 主 场 作 战 的 中 国 队 \n",
      " 田 管 中 心 希 望 这 次 主 场 作 战 的 中 国 队 \n",
      " 房 企 税 收 筹 划 很 关 键 \n",
      " 房 企 税 收 筹 划 很 关 键 \n",
      " 一 要 持 续 释 放 改 革 这 个 最 大 红 利 \n",
      " 医 药 持 续 释 放 改 革 这 个 最 大 红 利 \n",
      " 何 云 又 哼 哼 唧 唧 了 片 刻 看 到 周 正 局 长 点 点 腕 上 的 手 表 才 赶 快 转 入 正 题 \n",
      " 和 云 又 亨 唧 唧 了 片 看 到 周 正 长 点 点 的 上 的 手 表 才 赶 快 正 \n",
      " 由 银 行 根 据 借 款 人 的 信 用 状 况 和 还 款 能 力 等 合 理 确 定 \n",
      " 由 银 行 根 据 借 款 人 的 信 用 状 况 和 还 款 能 力 等 合 理 确 定 \n",
      " 导 致 其 销 量 长 期 低 于 预 期 \n",
      " 导 致 其 销 量 长 期 低 于 预 期 \n",
      " 其 他 保 险 公 司 也 会 跟 风 \n",
      " 其 他 保 险 公 司 也 会 跟 风 \n",
      " 每 个 选 择 都 是 一 种 屏 蔽 \n",
      " 每 个 选 择 都 是 一 种 屏 蔽 \n",
      " 更 加 类 似 电 动 摩 托 车 而 非 自 行 车 \n",
      " 更 加 类 似 电 动 摩 托 车 而 非 自 行 车 \n",
      " 并 于 二 零 一 四 年 十 二 月 启 动 官 方 电 商 渠 道 格 力 商 城 \n",
      " 并 于 二 零 一 四 年 十 二 月 启 动 官 方 电 商 渠 道 格 力 商 城 \n",
      " 新 京 报 讯 记 者 刘 素 宏 经 历 二 十 八 次 风 险 提 示 公 告 之 后 \n",
      " 新 京 报 讯 记 者 刘 素 宏 经 历 二 十 八 次 风 险 提 示 公 告 之 后 \n",
      " 意 见 涉 及 到 了 各 方 面 需 要 照 顾 的 因 素 \n",
      " 意 见 涉 及 到 了 各 方 面 需 要 照 顾 的 因 素 \n",
      " 裁 员 幅 度 达 到 三 零 百 分 之 \n",
      " 裁 员 幅 度 达 到 三 零 百 分 之 \n",
      " 新 华 社 维 也 纳 二 月 二 十 二 日 电 维 也 纳 欧 洲 常 规 裁 军 第 五 轮 会 谈 今 天 在 这 里 结 束 \n",
      " 新 华 社 维 也 纳 二 月 二 十 二 日 电 维 也 纳 欧 洲 常 规 裁 军 第 五 轮 会 谈 今 天 在 这 里 结 束 \n",
      " 这 句 话 源 于 万 科 总 裁 郁 亮 \n",
      " 这 句 话 源 于 万 科 总 裁 郁 亮 \n",
      " 进 军 互 联 网 汽 车 销 售 市 场 等 \n",
      " 进 军 互 联 网 汽 车 销 售 市 场 等 \n",
      " 黄 郢 圩 区 位 于 淮 河 干 流 行 洪 区 内 是 淮 史 泉 三 条 河 流 和 上 游 豫 皖 鄂 三 省 二 十 八 县 的 洪 水 汇 流 处 \n",
      " 黄 颖 围 区 位 于 淮 河 干 流 行 洪 区 内 是 淮 史 泉 三 条 河 流 和 上 游 豫 皖 鄂 三 省 二 十 八 县 的 洪 水 汇 流 处 \n",
      " 重 视 韩 流 影 响 力 借 欧 巴 推 广 \n",
      " 重 视 寒 流 影 响 力 借 欧 巴 推 广 \n",
      " 从 公 示 的 候 选 委 员 名 单 研 析 \n",
      " 从 公 室 的 后 选 委 员 名 单 颜 希 \n",
      " 截 至 去 年 十 一 月 底 该 矿 三 产 项 目 矿 外 拥 有 十 一 个 矿 内 三 十 个 四 十 多 个 经 营 网 点 \n",
      " 截 至 去 年 十 一 月 底 该 矿 三 产 项 目 矿 外 拥 有 十 一 个 矿 内 三 十 个 四 十 多 个 经 营 网 点 \n",
      " 中 钢 网 在 今 年 五 月 份 称 \n",
      " 中 钢 网 在 今 年 五 月 份 称 \n",
      " 这 两 个 指 标 本 身 是 没 有 什 么 问 题 \n",
      " 这 两 个 指 标 本 身 是 没 有 什 么 问 题 \n",
      " 在 审 批 通 过 后 就 会 与 广 大 国 内 玩 家 见 面 \n",
      " 在 审 批 通 过 后 就 会 与 广 大 国 内 玩 家 建 面 \n",
      " 大 单 资 金 净 流 入 一 万 三 千 五 百 五 十 九 点 九 一 万 元 \n",
      " 大 单 资 金 净 流 入 一 万 三 千 五 百 五 十 九 点 九 一 万 元 \n",
      " 郭 树 清 资 本 市 场 因 其 风 险 共 担 利 益 共 享 的 特 点 \n",
      " 郭 树 清 资 本 市 场 因 其 风 险 共 单 利 益 共 享 的 特 点 \n",
      " 摩 托 罗 拉 移 动 公 司 在 周 五 的 纽 约 股 市 常 规 交 易 期 间 \n",
      " 摩 托 罗 拉 移 动 公 司 在 周 五 的 扭 约 股 市 常 规 交 易 期 间 \n",
      " 委 托 贷 款 的 风 险 均 由 委 托 方 承 担 \n",
      " 委 托 贷 款 的 风 险 均 由 委 托 方 承 担 \n",
      " 拆 除 他 家 宅 基 地 上 的 客 栈 时 \n",
      " 拆 除 他 家 宅 基 地 上 的 客 战 时 \n",
      " 张 雨 霏 再 也 掩 饰 不 住 自 己 失 望 的 情 绪 \n",
      " 张 雨 霏 再 也 掩 示 不 住 自 己 失 望 的 情 绪 \n",
      " 吴 士 宏 目 前 有 百 分 之 二 十 的 精 力 做 公 益 性 的 社 会 兼 职 \n",
      " 无 是 红 目 前 有 百 分 之 二 十 的 经 力 做 公 益 性 的 社 会 兼 职 \n",
      " 其 前 提 都 是 要 高 通 在 市 场 上 获 取 了 支 配 地 位 \n",
      " 其 前 提 都 是 要 高 通 在 市 场 上 获 取 了 支 配 地 位 \n",
      " 佐 野 的 设 计 团 队 为 这 一 活 动 设 计 了 三 零 种 图 案 \n",
      " 佐 野 的 设 计 团 队 为 这 一 活 动 设 计 了 三 零 种 图 案 \n",
      " 但 是 宏 观 审 慎 监 管 细 则 方 面 并 没 有 完 全 提 出 来 \n",
      " 但 是 宏 观 审 慎 监 管 细 则 方 面 并 没 有 完 全 提 出 来 \n",
      " 创 造 了 中 国 田 径 史 上 最 伟 大 的 一 枚 银 牌 \n",
      " 创 造 了 中 国 田 径 史 上 最 伟 大 的 一 枚 银 牌 \n",
      " 为 了 控 制 零 部 件 的 产 品 质 量 \n",
      " 为 了 控 制 零 部 件 的 产 品 质 量 \n",
      " 作 为 中 国 首 批 体 验 者 之 一 \n",
      " 作 为 中 国 首 批 体 验 者 之 一 \n",
      " 几 个 月 前 俄 方 还 宣 布 减 少 对 哈 原 油 的 输 出 配 额 原 因 据 说 是 哈 的 原 油 含 杂 质 太 多 \n",
      " 几 个 月 前 俄 方 还 宣 布 减 少 对 哈 原 油 的 输 出 配 额 原 因 据 说 是 哈 的 原 油 涵 杂 质 太 多 \n",
      " 人 大 教 授 欲 断 绝 师 生 关 系 对 当 前 谬 论 对 双 方 不 利 \n",
      " 人 大 教 授 预 断 绝 师 生 关 系 对 当 前 谬 论 对 双 方 不 利 \n",
      " 他 从 来 不 吝 啬 自 己 的 笑 容 \n",
      " 他 从 来 不 赁 色 自 己 的 笑 容 \n",
      " 他 在 与 群 众 交 谈 中 指 出 \n",
      " 他 在 与 群 众 交 谈 中 指 出 \n",
      " 与 其 幻 想 三 星 步 诺 步 诺 基 亚 后 尘 \n",
      " 与 其 幻 想 三 星 部 诺 部 诺 基 亚 后 陈 \n",
      " 北 京 二 手 房 市 场 成 交 面 积 同 比 也 实 现 翻 番 \n",
      " 北 京 二 手 房 市 场 成 交 面 积 同 比 也 实 现 翻 番 \n",
      " 所 以 也 被 称 为 弱 信 号 \n",
      " 所 以 也 被 称 为 弱 信 号 \n",
      " 中 国 交 建 一 天 下 来 就 没 有 触 及 上 交 所 的 新 规 \n",
      " 中 国 交 建 一 天 下 来 就 没 有 触 及 上 交 所 的 新 规 \n",
      " 这 里 的 冬 季 较 为 温 和 \n",
      " 这 里 的 冬 季 较 为 温 河 \n",
      " 一 点 无 人 机 起 飞 和 降 落 过 程 中 \n",
      " 一 点 无 人 机 起 飞 和 降 落 过 程 中 \n",
      " 创 造 年 内 供 应 小 高 峰 \n",
      " 创 造 年 内 供 应 小 高 峰 \n",
      " 东 北 军 的 一 些 爱 国 将 士 马 占 山 李 杜 唐 聚 伍 苏 炳 艾 邓 铁 梅 等 也 奋 起 抗 战 \n",
      " 东 北 军 的 一 些 爱 国 将 士 马 战 山 李 杜 唐 聚 伍 苏 炳 艾 邓 铁 梅 等 也 奋 起 抗 战 \n",
      " 应 用 级 价 格 的 高 性 价 比 产 品 \n",
      " 应 用 及 价 格 的 高 性 价 比 产 品 \n",
      " 二 零 一 五 国 际 泳 联 世 锦 赛 大 幕 落 下 \n",
      " 二 零 一 五 国 际 泳 联 世 锦 赛 大 幕 落 下 \n",
      " 直 接 的 结 果 就 是 造 成 资 金 面 的 全 面 紧 张 \n",
      " 直 接 的 结 果 就 是 造 成 资 金 面 的 全 面 紧 张 \n",
      " 登 海 种 业 加 美 国 玉 米 种 子 \n",
      " 登 海 种 业 加 美 国 玉 米 种 子 \n",
      " 但 它 的 外 观 重 量 脚 感 又 均 与 传 统 足 球 无 异 \n",
      " 但 他 的 外 观 众 量 脚 感 又 军 与 传 统 足 球 无 意 \n",
      " 比 四 月 份 同 期 小 幅 增 长 百 分 之 一 点 二 三 \n",
      " 比 四 月 份 同 期 小 幅 增 长 百 分 之 一 点 二 三 \n",
      " 不 仅 持 续 地 对 外 扩 大 这 件 事 的 影 响 \n",
      " 不 仅 持 续 的 对 外 扩 大 这 件 事 的 影 响 \n",
      " 本 报 讯 记 者 宋 翔 昨 日 \n",
      " 本 报 讯 记 者 宋 翔 昨 日 \n",
      " 在 高 速 公 路 上 怎 样 行 车 \n",
      " 在 高 速 公 路 上 怎 样 行 车 \n",
      " 郑 于 锷 也 持 相 同 观 点 \n",
      " 正 于 恶 也 持 相 同 观 点 \n",
      " 伟 烈 丰 功 费 尽 移 山 心 力 尽 珠 帘 画 栋 卷 不 及 暮 雨 朝 云 便 断 碣 残 碑 都 付 与 苍 烟 落 照 \n",
      " 伟 烈 丰 功 费 尽 移 山 心 力 尽 珠 帘 画 栋 卷 不 及 暮 雨 朝 云 便 断 杰 残 碑 都 付 与 苍 烟 落 照 \n",
      " 亚 豪 机 构 市 场 总 监 郭 毅 认 为 \n",
      " 亚 豪 机 构 市 场 总 监 郭 毅 认 为 \n",
      " 但 仍 然 被 数 十 家 品 牌 房 企 争 抢 \n",
      " 但 仍 然 被 数 十 家 品 牌 房 企 争 抢 \n",
      " 台 网 友 玩 英 雄 联 盟 被 喷 太 菜 报 警 队 友 罪 名 落 实 或 判 刑 \n",
      " 台 网 友 完 英 雄 联 盟 被 喷 太 菜 报 警 队 友 罪 名 落 实 或 判 刑 \n",
      " 交 易 所 会 被 清 理 整 顿 吗 \n",
      " 交 易 所 会 被 清 理 整 顿 吗 \n",
      " 欲 在 家 里 放 火 自 焚 时 \n",
      " 欲 在 家 里 放 火 自 焚 时 \n",
      " 这 将 再 一 次 刺 激 市 场 的 需 求 \n",
      " 这 将 再 一 次 激 市 场 需 求 \n",
      " 听 者 从 中 既 能 体 验 到 勃 勃 的 山 野 豪 情 又 可 感 悟 到 暖 暖 的 纯 真 柔 情 \n",
      " 听 者 从 中 既 能 体 验 到 勃 勃 的 山 野 豪 情 又 可 感 悟 到 暖 暖 的 纯 真 情 \n",
      " 看 到 了 这 次 百 米 飞 人 大 赛 上 的 这 一 幕 \n",
      " 看 到 了 这 次 百 米 飞 人 大 赛 上 的 这 一 幕 \n",
      " 开 发 商 也 在 八 月 显 示 出 了 今 年 以 来 前 所 未 有 的 热 情\n",
      " 开 发 商 也 在 八 月 显 示 出 了 今 年 以 来 前 所 未 有 的 热 情\n"
     ]
    }
   ],
   "source": [
    "for s1,s2 in zip(ss.split('<pad>'),ss_2.split('<pad>')):\n",
    "    print(s1)\n",
    "    print(s2)"
   ]
  },
  {
   "cell_type": "code",
   "execution_count": null,
   "metadata": {},
   "outputs": [],
   "source": []
  }
 ],
 "metadata": {
  "kernelspec": {
   "display_name": "Python 3",
   "language": "python",
   "name": "python3"
  },
  "language_info": {
   "codemirror_mode": {
    "name": "ipython",
    "version": 3
   },
   "file_extension": ".py",
   "mimetype": "text/x-python",
   "name": "python",
   "nbconvert_exporter": "python",
   "pygments_lexer": "ipython3",
   "version": "3.7.2"
  }
 },
 "nbformat": 4,
 "nbformat_minor": 2
}
